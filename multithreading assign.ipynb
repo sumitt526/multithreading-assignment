{
 "cells": [
  {
   "cell_type": "markdown",
   "id": "d2b287b2-557e-4e46-a3bb-064d07472a0c",
   "metadata": {},
   "source": [
    "Qsn 1 solution:->\n",
    "\n",
    "multithreading is used in python to run multiple program/threads in a single core/process to improve performance of program by using multiple CPU or CPUs core.\n",
    "\n",
    "threading module is used in python to handle threads."
   ]
  },
  {
   "cell_type": "markdown",
   "id": "85f17395-6a76-4a15-a56c-be56f01f1735",
   "metadata": {},
   "source": [
    "Qsn 2 solution:->\n",
    "\n",
    "threading module is used to handle threads in python.\n",
    "\n",
    "1) activeCount():-> it returns the number of thread objects that are active.\n",
    "2) currentThread():-> it returns the number of thread objects in the caller's thread control.\n",
    "3) enumerate():-> it returns the list of all thr thread objects that are active."
   ]
  },
  {
   "cell_type": "markdown",
   "id": "3443a8aa-b3a2-4137-a2ab-676fbd56e87a",
   "metadata": {},
   "source": [
    "Qsn 3 solution:->\n",
    "\n",
    "1) run():-> it is the entry point for a thread.\n",
    "2) start():-> it starts a thread by calling run method.\n",
    "3) join():-> it waits for the thread to terminate.\n",
    "4) isAlive():-> it checks whether a thread is still executing."
   ]
  },
  {
   "cell_type": "code",
   "execution_count": 3,
   "id": "c6c52de7-4a25-4535-91ef-6e604c525eb4",
   "metadata": {},
   "outputs": [
    {
     "name": "stdout",
     "output_type": "stream",
     "text": [
      "l1:->  [1, 4, 9, 16, 25, 36, 49, 64, 81]\n",
      "l2:->  [1, 8, 27, 64, 125, 216, 343, 512, 729]\n"
     ]
    }
   ],
   "source": [
    "# Qsn 4 solution:->\n",
    "try:\n",
    "    import logging\n",
    "    logging.basicConfig(filename = \"test.log\", level = logging.INFO, format = '%(asctime)s %(levelname)s %(message)s')\n",
    "    import threading\n",
    "except (ModuleNotFoundError, ImportError) as e:\n",
    "    logging.error(\"here iam trying to handle a module or import error:- {} \".format(e))\n",
    "n = [1,2,3,4,5,6,7,8,9]\n",
    "l1 = []\n",
    "l2 = []\n",
    "\n",
    "def square_out(num):\n",
    "    logging.info(\"firstly iam trying to create a funcn that prints the square of a given list and append it to another list \")\n",
    "    \"\"\"prints out the square of given list and append it to another list\"\"\"\n",
    "    try:\n",
    "        for i in num:\n",
    "            logging.info(\"iam in a for loop for i in a given list:- \" + str(n))\n",
    "            l1.append(i**2)\n",
    "            logging.info(f\"iam appending the square of {i} to list l1:- {l1}\")\n",
    "        print(\"l1:-> \", l1)\n",
    "        logging.info(f\"iam printing the new list {l1}\")\n",
    "    except (AttributeError, SyntaxError) as e:\n",
    "        logging.error(\"here iam trying to handle attribute and syntax error:- {}\".format(e))\n",
    "\n",
    "        \n",
    "def cube_out(num):\n",
    "    logging.info(\"secondly iam trying to create a funcn that prints the cube of a given list and append it to another list \")\n",
    "    \"\"\"prints out the cube of given list and append it to another list\"\"\"\n",
    "    \n",
    "    try:\n",
    "        for i in num:\n",
    "            logging.info(\"iam in a for loop for i in a given list:- \" + str(n))\n",
    "            l2.append(i**3)\n",
    "            logging.info(f\"iam appending the cube of {i} to list l2:- {l2}\")\n",
    "        print(\"l2:-> \", l2)\n",
    "        logging.info(f\"iam printing the new list {l1}\")\n",
    "    except (AttributeError, SyntaxError) as e:\n",
    "        logging.error(\"here iam trying to handle attribute and syntax error:- {}\".format(e))\n",
    "try:    \n",
    "    t1 = threading.Thread(target = square_out, args = (n,))\n",
    "    t2 = threading.Thread(target = cube_out, args = (n,))\n",
    "\n",
    "    t1.start()\n",
    "    t2.start()\n",
    "\n",
    "    t1.join()\n",
    "    t2.join()\n",
    "except (TypeError,AttributeError) as e:\n",
    "    logging.error(\"iam handling a type or attribute error:- {}\".format(e))\n",
    "finally:\n",
    "    logging.info(\"my final result for square is {a} and for cube is {b}\".format(a = l1, b = l2))\n",
    "    logging.shutdown()"
   ]
  },
  {
   "cell_type": "code",
   "execution_count": null,
   "id": "89737f50-f8e6-4750-8ad1-0081519628e9",
   "metadata": {},
   "outputs": [],
   "source": []
  },
  {
   "cell_type": "markdown",
   "id": "7095712b-9aee-46b0-ba7d-183fcd6856f1",
   "metadata": {},
   "source": [
    " Qsn 5 solution:->\n",
    "\n",
    "advantages of multithreading:->\n",
    "\n",
    "1) it enables efficient utilization of resources.\n",
    "2) it allows concurent and parallel occurence of various tasks.\n",
    "3) it causes reduction in response time, hence increasing perfomance.\n",
    "4) it enables multiple tasks to be performed simultaneously.\n",
    "\n",
    "disadvantages of multithreading:->\n",
    "\n",
    "1) increases the complexicity of program.\n",
    "2) difficult to debug unpredictable results.\n",
    "3) constructing and synchronizing threads are cpu or memory intensive.\n",
    "4) synchronyzation of shared resources or data is necessary."
   ]
  },
  {
   "cell_type": "code",
   "execution_count": null,
   "id": "8795c1d1-a4df-44cb-8cad-a4d8c32f64b3",
   "metadata": {},
   "outputs": [],
   "source": []
  },
  {
   "cell_type": "markdown",
   "id": "22487e5d-6192-42ba-b269-0d17948330dc",
   "metadata": {},
   "source": [
    "Qsn 6 solution:->\n",
    "\n",
    "race condition:-> it is a bug generated when you do multithreading or multiprocessing. it occurs when one or more thread tries to update same variable and results into unreliable output.\n",
    "\n",
    "deadlock:-> Deadlock occurs when two or more threads are waiting for each other to release resources, resulting in all threads being blocked."
   ]
  },
  {
   "cell_type": "code",
   "execution_count": null,
   "id": "6525b804-fccd-4455-ab04-7e73d1052c7d",
   "metadata": {},
   "outputs": [],
   "source": []
  }
 ],
 "metadata": {
  "kernelspec": {
   "display_name": "Python 3 (ipykernel)",
   "language": "python",
   "name": "python3"
  },
  "language_info": {
   "codemirror_mode": {
    "name": "ipython",
    "version": 3
   },
   "file_extension": ".py",
   "mimetype": "text/x-python",
   "name": "python",
   "nbconvert_exporter": "python",
   "pygments_lexer": "ipython3",
   "version": "3.10.8"
  }
 },
 "nbformat": 4,
 "nbformat_minor": 5
}
